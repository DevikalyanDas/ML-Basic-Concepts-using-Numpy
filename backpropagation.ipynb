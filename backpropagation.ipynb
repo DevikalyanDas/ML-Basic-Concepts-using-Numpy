{
 "cells": [
  {
   "cell_type": "code",
   "execution_count": 4,
   "metadata": {
    "colab": {
     "base_uri": "https://localhost:8080/",
     "height": 550
    },
    "colab_type": "code",
    "id": "-xCOCkTQAxNI",
    "outputId": "92cf163a-f9a5-4171-cda0-5117bf7ff89a"
   },
   "outputs": [
    {
     "name": "stdout",
     "output_type": "stream",
     "text": [
      "Random Synaptic Weights:\n",
      "first set: [[-0.16595599  0.44064899]\n",
      " [-0.99977125 -0.39533485]]\n",
      "Second set: [[-0.70648822]\n",
      " [-0.81532281]]\n",
      "synaptic weights after training\n",
      "first set: [[-0.1132544   0.51970137]\n",
      " [-0.94472054 -0.3127588 ]]\n",
      "Second set: [[-0.74846518]\n",
      " [-0.70636712]]\n",
      "Input 1: 2\n",
      "Input 2: 3\n",
      "output Data: \n",
      "[[1.00000548]]\n"
     ]
    },
    {
     "data": {
      "image/png": "[encoded data removed]",
      "text/plain": [
       "<Figure size 432x288 with 1 Axes>"
      ]
     },
     "metadata": {
      "needs_background": "light"
     },
     "output_type": "display_data"
    }
   ],
   "source": [
    "import numpy as np\n",
    "import matplotlib.pyplot as plt\n",
    "\n",
    "class NeuralNetwork():\n",
    "    def __init__(self):\n",
    "        # Generate random numbers\n",
    "        np.random.seed(1)\n",
    "\n",
    "        # Assign random weights to a 3 x 1 matrix,\n",
    "        self.synaptic_weights1 = 2 * np.random.random((2, 2)) - 1\n",
    "        self.synaptic_weights2 = 2 * np.random.random((2, 1)) - 1\n",
    "        #error list\n",
    "        self.err_track = []\n",
    "    # The neural network thinks.\n",
    "    def think(self, inputs):\n",
    "        inputs = inputs.astype(float)\n",
    "        output1 = np.matmul(self.synaptic_weights1,inputs)\n",
    "        output = np.matmul(output1.T,self.synaptic_weights2)\n",
    "        return output,output1\n",
    "\n",
    "    # Train the neural network and adjust the weights each time.\n",
    "    def train(self,training_inputs, training_outputs,training_iterations):\n",
    "        \n",
    "        for iteration in range(training_iterations):\n",
    "\n",
    "            # Pass the training set through the network.\n",
    "            output,output1 = self.think(training_inputs)\n",
    "\n",
    "            # Calculate the error\n",
    "            error = 0.5*((output-training_outputs)**2)\n",
    "            #learning rate\n",
    "            a = 0.001\n",
    "            # after derivating the loss function\n",
    "            delta = output-training_outputs\n",
    "\n",
    "            # Adjust the weights by a factor\n",
    "            adjustment2 = a * delta * output1\n",
    "            self.synaptic_weights2 -= adjustment2\n",
    "\n",
    "            adjustment1 = a * delta * np.matmul(self.synaptic_weights2,training_inputs.T)           \n",
    "            self.synaptic_weights1 -= adjustment1\n",
    "\n",
    "            self.err_track.append(error)\n",
    "\n",
    "if __name__ == \"__main__\":\n",
    "    # Initialize\n",
    "    neural_network = NeuralNetwork()\n",
    "\n",
    "    print(\"Random Synaptic Weights:\")\n",
    "    print(\"first set:\",neural_network.synaptic_weights1)\n",
    "    print(\"Second set:\",neural_network.synaptic_weights2)\n",
    "    # The training set.\n",
    "    training_inputs = np.array([[2], [3]])\n",
    "    training_outputs = np.array([[1]])\n",
    "\n",
    "    # Train the neural network\n",
    "    neural_network.train(training_inputs, training_outputs, 500)\n",
    "\n",
    "    print(\"synaptic weights after training\")\n",
    "    print(\"first set:\",neural_network.synaptic_weights1)\n",
    "    print(\"Second set:\",neural_network.synaptic_weights2)\n",
    "    A = str(input(\"Input 1: \"))\n",
    "    B = str(input(\"Input 2: \"))\n",
    "\n",
    "    print(\"output Data: \")\n",
    "    out,_ = neural_network.think(np.array([[A], [B]]))\n",
    "    print(out)\n",
    "\n",
    "    #plot loss\n",
    "    loss_er = np.delete(neural_network.err_track, 1, None)\n",
    "    epchs = range(0,499)\n",
    "    fig =  plt.figure()\n",
    "    plt.plot(epchs,loss_er)\n",
    "    fig.suptitle('Loss Curve', fontsize=16)\n",
    "    plt.xlabel('epochs', fontsize=14)\n",
    "    plt.ylabel('Loss', fontsize=14)\n",
    "    plt.show()"
   ]
  }
 ],
 "metadata": {
  "accelerator": "TPU",
  "colab": {
   "name": "backpropagation.ipynb",
   "provenance": []
  },
  "kernelspec": {
   "display_name": "Python 3",
   "language": "python",
   "name": "python3"
  },
  "language_info": {
   "codemirror_mode": {
    "name": "ipython",
    "version": 3
   },
   "file_extension": ".py",
   "mimetype": "text/x-python",
   "name": "python",
   "nbconvert_exporter": "python",
   "pygments_lexer": "ipython3",
   "version": "3.6.4"
  }
 },
 "nbformat": 4,
 "nbformat_minor": 1
}
